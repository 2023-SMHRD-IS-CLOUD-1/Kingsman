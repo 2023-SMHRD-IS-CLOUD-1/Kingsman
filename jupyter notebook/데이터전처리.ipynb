{
 "cells": [
  {
   "cell_type": "markdown",
   "id": "1963f1ff",
   "metadata": {},
   "source": [
    "# 데이터 전처리"
   ]
  },
  {
   "cell_type": "code",
   "execution_count": 4,
   "id": "cfd1ffec",
   "metadata": {},
   "outputs": [
    {
     "name": "stdout",
     "output_type": "stream",
     "text": [
      "Collecting imgaug\n",
      "  Downloading imgaug-0.4.0-py2.py3-none-any.whl (948 kB)\n",
      "     ---------------------------------------- 0.0/948.0 kB ? eta -:--:--\n",
      "     ------------------------------------- 948.0/948.0 kB 20.0 MB/s eta 0:00:00\n",
      "Installing collected packages: imgaug\n",
      "Successfully installed imgaug-0.4.0\n",
      "Note: you may need to restart the kernel to use updated packages.\n"
     ]
    }
   ],
   "source": [
    "pip install --no-dependencies imgaug"
   ]
  },
  {
   "cell_type": "code",
   "execution_count": 5,
   "id": "2d7962fe",
   "metadata": {},
   "outputs": [
    {
     "name": "stderr",
     "output_type": "stream",
     "text": [
      "C:\\Users\\USER\\anaconda3\\Lib\\site-packages\\paramiko\\transport.py:219: CryptographyDeprecationWarning: Blowfish has been deprecated\n",
      "  \"class\": algorithms.Blowfish,\n"
     ]
    }
   ],
   "source": [
    "# 라이브러리 불러오기\n",
    "import cv2\n",
    "import numpy as np \n",
    "from imgaug import augmenters as iaa"
   ]
  },
  {
   "cell_type": "code",
   "execution_count": 6,
   "id": "364d33fc",
   "metadata": {},
   "outputs": [],
   "source": [
    "# 이미지 로드\n",
    "original_image = cv2.imread('data/towel_3.png')\n",
    "\n",
    "# 이미지 리사이즈\n",
    "resized_image = cv2.resize(original_image, (128, 128))\n",
    "\n",
    "# 이미지 크롭 (선택적)\n",
    "cropped_image = resized_image[32:96, 32:96]\n",
    "\n",
    "# 이미지 이진화 (선택적)\n",
    "# ret, binarized_image = cv2.threshold(cropped_image, 127, 255, cv2.THRESH_BINARY)\n",
    "\n",
    "# 이미지 정규화\n",
    "normalized_image = cropped_image / 255.0\n",
    "\n",
    "# 데이터 증강\n",
    "aug = iaa.Sequential([\n",
    "    iaa.Fliplr(0.5), # 50% 확률로 좌우 뒤집기\n",
    "    iaa.GaussianBlur(sigma=(0, 3.0)), # 가우시안 블러 적용\n",
    "    iaa.Affine(\n",
    "        scale={\"x\": (0.8, 1.2), \"y\": (0.8, 1.2)}, # 스케일 조정\n",
    "        translate_percent={\"x\": (-0.2, 0.2), \"y\": (-0.2, 0.2)}, # 평행 이동\n",
    "        rotate=(-25, 25), # 회전\n",
    "    )\n",
    "])\n",
    "\n",
    "augmented_image = aug.augment_image(normalized_image)\n"
   ]
  },
  {
   "cell_type": "code",
   "execution_count": 10,
   "id": "509e6fea",
   "metadata": {},
   "outputs": [
    {
     "ename": "AttributeError",
     "evalue": "'str' object has no attribute 'augmented_image'",
     "output_type": "error",
     "traceback": [
      "\u001b[1;31m---------------------------------------------------------------------------\u001b[0m",
      "\u001b[1;31mAttributeError\u001b[0m                            Traceback (most recent call last)",
      "Cell \u001b[1;32mIn[10], line 1\u001b[0m\n\u001b[1;32m----> 1\u001b[0m cv2\u001b[38;5;241m.\u001b[39mimshow(\u001b[38;5;124m'\u001b[39m\u001b[38;5;124maugmented_image\u001b[39m\u001b[38;5;124m'\u001b[39m\u001b[38;5;241m.\u001b[39m augmented_image)\n",
      "\u001b[1;31mAttributeError\u001b[0m: 'str' object has no attribute 'augmented_image'"
     ]
    }
   ],
   "source": [
    "cv2.imshow('augmented_image'. augmented_image)"
   ]
  },
  {
   "cell_type": "code",
   "execution_count": null,
   "id": "85db92df",
   "metadata": {},
   "outputs": [],
   "source": []
  }
 ],
 "metadata": {
  "kernelspec": {
   "display_name": "Python 3 (ipykernel)",
   "language": "python",
   "name": "python3"
  },
  "language_info": {
   "codemirror_mode": {
    "name": "ipython",
    "version": 3
   },
   "file_extension": ".py",
   "mimetype": "text/x-python",
   "name": "python",
   "nbconvert_exporter": "python",
   "pygments_lexer": "ipython3",
   "version": "3.11.4"
  },
  "toc": {
   "base_numbering": 1,
   "nav_menu": {},
   "number_sections": true,
   "sideBar": true,
   "skip_h1_title": false,
   "title_cell": "Table of Contents",
   "title_sidebar": "Contents",
   "toc_cell": false,
   "toc_position": {},
   "toc_section_display": true,
   "toc_window_display": false
  }
 },
 "nbformat": 4,
 "nbformat_minor": 5
}
