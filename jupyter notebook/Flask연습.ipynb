{
 "cells": [
  {
   "cell_type": "code",
   "execution_count": null,
   "id": "6f1621be",
   "metadata": {},
   "outputs": [],
   "source": [
    "from flask import Flask, request, jsonify\n",
    "from werkzeug.utils import secure_filename\n",
    "from ultralytics import YOLO\n",
    "import os\n",
    "\n",
    "app = Flask(__name__)\n",
    "\n",
    "# 모델 불러오기: 학습된 모델의 경로를 지정해야 합니다.\n",
    "model = YOLO('학습된 모델의 경로')  # 여기에 학습된 모델의 경로를 입력하세요.\n",
    "\n",
    "@app.route(\"/predict\", methods=[\"POST\"])\n",
    "def predict():\n",
    "    if 'file' not in request.files:\n",
    "        return jsonify({'error': 'No file part in the request'}), 400\n",
    "\n",
    "    file = request.files['file']\n",
    "\n",
    "    if file.filename == '':\n",
    "        return jsonify({'error': 'No file selected for uploading'}), 400\n",
    "\n",
    "    filename = secure_filename(file.filename)\n",
    "    # 이미지 저장 경로: 이미지를 임시로 저장할 디렉토리를 지정해야 합니다.\n",
    "    file_path = os.path.join('임시 이미지 저장 디렉토리', filename)  # 여기에 이미지를 임시로 저장할 디렉토리를 입력하세요.\n",
    "    file.save(file_path)\n",
    "\n",
    "    # 예측 수행\n",
    "    results = model(file_path)\n",
    "    \n",
    "    predictions = []\n",
    "    for result in results:\n",
    "        boxes = result.boxes\n",
    "        for box in boxes:\n",
    "            predictions.append({\n",
    "                'class': box.cls,\n",
    "                'confidence': box.conf,\n",
    "                'x': box.x,\n",
    "                'y': box.y,\n",
    "                'width': box.width,\n",
    "                'height': box.height\n",
    "            })\n",
    "\n",
    "    return jsonify({'predictions': predictions})\n",
    "\n",
    "if __name__ == \"__main__\":\n",
    "    app.run(debug=True)"
   ]
  }
 ],
 "metadata": {
  "kernelspec": {
   "display_name": "Python 3 (ipykernel)",
   "language": "python",
   "name": "python3"
  },
  "language_info": {
   "codemirror_mode": {
    "name": "ipython",
    "version": 3
   },
   "file_extension": ".py",
   "mimetype": "text/x-python",
   "name": "python",
   "nbconvert_exporter": "python",
   "pygments_lexer": "ipython3",
   "version": "3.11.4"
  },
  "toc": {
   "base_numbering": 1,
   "nav_menu": {},
   "number_sections": true,
   "sideBar": true,
   "skip_h1_title": false,
   "title_cell": "Table of Contents",
   "title_sidebar": "Contents",
   "toc_cell": false,
   "toc_position": {},
   "toc_section_display": true,
   "toc_window_display": false
  }
 },
 "nbformat": 4,
 "nbformat_minor": 5
}
