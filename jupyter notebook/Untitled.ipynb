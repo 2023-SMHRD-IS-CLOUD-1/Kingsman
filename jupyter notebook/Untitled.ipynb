{
 "cells": [
  {
   "cell_type": "code",
   "execution_count": null,
   "id": "d5a73147",
   "metadata": {},
   "outputs": [],
   "source": [
    "from flask import Flask, request, jsonify\n",
    "from flask_cors import CORS\n",
    "from ultralytics import YOLO\n",
    "import os\n",
    "import werkzeug\n",
    "import threading\n",
    "app = Flask(__name__)\n",
    "CORS(app)  # CORS 적용\n",
    "\n",
    "app.config['UPLOAD_FOLDER'] = './uploads'\n",
    "\n",
    "# 모델 불러오기\n",
    "best_model = YOLO('./data/runs/detect/train2/weights/best.pt')\n",
    "\n",
    "@app.route('/', methods=['POST'])\n",
    "def predict():\n",
    "    print(\"predict 함수 실행\")\n",
    "    imagefile = request.files['image']\n",
    "    filename = werkzeug.utils.secure_filename(imagefile.filename)\n",
    "    filepath = os.path.join(app.config['UPLOAD_FOLDER'], filename)\n",
    "    imagefile.save(filepath)\n",
    "\n",
    "    # 예측시키기\n",
    "    results = best_model(filepath, save=True, conf=0.3)\n",
    "\n",
    "    # 예측 결과 저장을 위한 리스트\n",
    "    predictions = []\n",
    "\n",
    "    for result in results:\n",
    "        for box in result.boxes:\n",
    "            class_name = result.names[int(box.cls[0])]\n",
    "            predictions.append({\n",
    "                'class': class_name,\n",
    "                'message': '50개 입니다.' if class_name == '50_towel_counts' else '50개가 아닙니다.'\n",
    "            })\n",
    "\n",
    "    # 예측 결과가 없을 경우 오류 메시지 반환\n",
    "    if not predictions:\n",
    "        return jsonify({\n",
    "            'error': 'No valid class found.'\n",
    "        }), 400\n",
    "\n",
    "    # 예측 결과 반환\n",
    "    return jsonify(predictions), 200\n",
    "\n",
    " #별도의 스레드에서 Flask 앱 실행\n",
    "def run_app(app):\n",
    "    app.run(use_reloader=False)  # reloader를 비활성화\n",
    "\n",
    "threading.Thread(target=run_app, args=(app,)).start()"
   ]
  }
 ],
 "metadata": {
  "kernelspec": {
   "display_name": "Python 3 (ipykernel)",
   "language": "python",
   "name": "python3"
  },
  "language_info": {
   "codemirror_mode": {
    "name": "ipython",
    "version": 3
   },
   "file_extension": ".py",
   "mimetype": "text/x-python",
   "name": "python",
   "nbconvert_exporter": "python",
   "pygments_lexer": "ipython3",
   "version": "3.11.5"
  },
  "toc": {
   "base_numbering": 1,
   "nav_menu": {},
   "number_sections": true,
   "sideBar": true,
   "skip_h1_title": false,
   "title_cell": "Table of Contents",
   "title_sidebar": "Contents",
   "toc_cell": false,
   "toc_position": {},
   "toc_section_display": true,
   "toc_window_display": false
  }
 },
 "nbformat": 4,
 "nbformat_minor": 5
}
